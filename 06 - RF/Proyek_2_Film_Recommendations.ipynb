{
  "nbformat": 4,
  "nbformat_minor": 0,
  "metadata": {
    "colab": {
      "name": "Proyek 2 Film Recommendations.ipynb",
      "private_outputs": true,
      "provenance": []
    },
    "kernelspec": {
      "name": "python3",
      "display_name": "Python 3"
    },
    "language_info": {
      "name": "python"
    }
  },
  "cells": [
    {
      "cell_type": "markdown",
      "source": [
        "# Proyek Machine Learning Rekomendasi Film - Alfandi Firnando"
      ],
      "metadata": {
        "id": "b_Rtc8ITj-xP"
      }
    },
    {
      "cell_type": "markdown",
      "source": [
        "## Data Loading"
      ],
      "metadata": {
        "id": "9A0vkL6_sWvq"
      }
    },
    {
      "cell_type": "markdown",
      "source": [
        "### Import library machine learning yang diperlukan"
      ],
      "metadata": {
        "id": "DpDvEoaisdty"
      }
    },
    {
      "cell_type": "code",
      "source": [
        "import pandas as pd\n",
        "from sklearn.feature_extraction.text import CountVectorizer\n",
        "import nltk\n",
        "nltk.download('punkt')\n",
        "from nltk.tokenize import word_tokenize"
      ],
      "metadata": {
        "id": "J--ps_MJhD0B"
      },
      "execution_count": null,
      "outputs": []
    },
    {
      "cell_type": "markdown",
      "source": [
        "### Connect dengan googgle drive untuk mengakses data"
      ],
      "metadata": {
        "id": "hRkrgYwCj_pm"
      }
    },
    {
      "cell_type": "code",
      "source": [
        "from google.colab import drive\n",
        "drive.mount('/content/drive')"
      ],
      "metadata": {
        "id": "VfJQHyF3tQJw"
      },
      "execution_count": null,
      "outputs": []
    },
    {
      "cell_type": "markdown",
      "source": [
        "### Melakukan data loading dari directory"
      ],
      "metadata": {
        "id": "Y2A5jC8tkAMm"
      }
    },
    {
      "cell_type": "code",
      "source": [
        "df = pd.read_csv('/content/drive/MyDrive/content_by_synopsis.csv')\n",
        "df"
      ],
      "metadata": {
        "id": "Pi_N1URdpxm6"
      },
      "execution_count": null,
      "outputs": []
    },
    {
      "cell_type": "markdown",
      "source": [
        "## Data Preparation"
      ],
      "metadata": {
        "id": "pR27aQslsuzF"
      }
    },
    {
      "cell_type": "markdown",
      "source": [
        "### Encode semua feature overview"
      ],
      "metadata": {
        "id": "dkr64DKpkDJN"
      }
    },
    {
      "cell_type": "code",
      "source": [
        " bow = CountVectorizer(stop_words='english', tokenizer=word_tokenize)\n",
        " bank = bow.fit_transform(df.overview)"
      ],
      "metadata": {
        "id": "viEGTd9esBXf"
      },
      "execution_count": null,
      "outputs": []
    },
    {
      "cell_type": "markdown",
      "source": [
        "### Encode overview untuk film index ke-0 yaitu film Toy Story"
      ],
      "metadata": {
        "id": "kDQEFmt0l4rg"
      }
    },
    {
      "cell_type": "code",
      "source": [
        "#Menampilkan overview untuk film index ke-0 yaitu film Toy Story\n",
        "idx = 0\n",
        "content = df.loc[idx, \"overview\"]\n",
        "content"
      ],
      "metadata": {
        "id": "P-pc_IEelqRX"
      },
      "execution_count": null,
      "outputs": []
    },
    {
      "cell_type": "code",
      "source": [
        "#Melakukan transformasi fitur ke bentuk matrix\n",
        "code = bow.transform([content])\n",
        "code"
      ],
      "metadata": {
        "id": "pssohCnYlyjD"
      },
      "execution_count": null,
      "outputs": []
    },
    {
      "cell_type": "code",
      "source": [
        "code.toarray()"
      ],
      "metadata": {
        "id": "20L8mCn0mU48"
      },
      "execution_count": null,
      "outputs": []
    },
    {
      "cell_type": "markdown",
      "source": [
        "## Modeling"
      ],
      "metadata": {
        "id": "cjUZss3ds8Bf"
      }
    },
    {
      "cell_type": "markdown",
      "source": [
        "###  menghitung derajat kesamaan (similarity degree) dengan teknik cosine distances"
      ],
      "metadata": {
        "id": "ucqO7dvXmi8V"
      }
    },
    {
      "cell_type": "code",
      "source": [
        "from sklearn.metrics.pairwise import cosine_distances"
      ],
      "metadata": {
        "id": "sJwzBipnmfgp"
      },
      "execution_count": null,
      "outputs": []
    },
    {
      "cell_type": "code",
      "source": [
        "dist = cosine_distances(code, bank)\n",
        "dist"
      ],
      "metadata": {
        "id": "X5pIeGC0muO-"
      },
      "execution_count": null,
      "outputs": []
    },
    {
      "cell_type": "markdown",
      "source": [
        "## Evaluation"
      ],
      "metadata": {
        "id": "GdJJYxDPtNIB"
      }
    },
    {
      "cell_type": "markdown",
      "source": [
        "### Memberikan Rekomendasi Film"
      ],
      "metadata": {
        "id": "tzR4MBOHnQ78"
      }
    },
    {
      "cell_type": "code",
      "source": [
        "#Memberi rekomendasi untuk top 10 film berdasarkan kemiripan content sinopsis untuk film index ke-0\n",
        "rec_idx = dist.argsort()[0, 1:11]\n",
        "rec_idx"
      ],
      "metadata": {
        "id": "UuzIqLCdndAn"
      },
      "execution_count": null,
      "outputs": []
    },
    {
      "cell_type": "code",
      "source": [
        "#Menampilkan Top 10 film rekomendasi berdasarkan kemiripan synopsis\n",
        "df.loc[rec_idx]"
      ],
      "metadata": {
        "id": "dKxnODLDnMq8"
      },
      "execution_count": null,
      "outputs": []
    }
  ]
}